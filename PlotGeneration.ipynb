version https://git-lfs.github.com/spec/v1
oid sha256:0f79ed326dd0f99c936c360eae839b88ed1e24262df21f65822569943c3ffc36
size 241012
